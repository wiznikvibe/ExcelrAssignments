{
  "nbformat": 4,
  "nbformat_minor": 0,
  "metadata": {
    "colab": {
      "name": "A12_NaiveBayes.ipynb",
      "provenance": [],
      "collapsed_sections": []
    },
    "kernelspec": {
      "name": "python3",
      "display_name": "Python 3"
    },
    "language_info": {
      "name": "python"
    }
  },
  "cells": [
    {
      "cell_type": "code",
      "metadata": {
        "id": "GovwzkaqkqCb"
      },
      "source": [
        "import pandas as pd\n",
        "import numpy as np\n",
        "import seaborn as sns\n",
        "import matplotlib.pyplot as plt\n",
        "%matplotlib inline\n",
        "from sklearn.preprocessing import StandardScaler\n",
        "from imblearn.over_sampling import RandomOverSampler\n",
        "from sklearn.metrics import classification_report,confusion_matrix\n",
        "from sklearn.model_selection import train_test_split\n",
        "from sklearn.naive_bayes import GaussianNB"
      ],
      "execution_count": null,
      "outputs": []
    },
    {
      "cell_type": "markdown",
      "metadata": {
        "id": "sCF-0bW_tHwo"
      },
      "source": [
        "##Data Collection and Description"
      ]
    },
    {
      "cell_type": "code",
      "metadata": {
        "id": "62szRUCIoclu"
      },
      "source": [
        "df_test = pd.read_csv('SalaryData_Test.csv')"
      ],
      "execution_count": null,
      "outputs": []
    },
    {
      "cell_type": "code",
      "metadata": {
        "colab": {
          "base_uri": "https://localhost:8080/",
          "height": 313
        },
        "id": "VJCkBKUHocpD",
        "outputId": "c50f5914-4dd6-4e7a-859c-61de0b022aa0"
      },
      "source": [
        "df = pd.read_csv('SalaryData_Train.csv')\n",
        "df.head()"
      ],
      "execution_count": null,
      "outputs": [
        {
          "output_type": "execute_result",
          "data": {
            "text/html": [
              "<div>\n",
              "<style scoped>\n",
              "    .dataframe tbody tr th:only-of-type {\n",
              "        vertical-align: middle;\n",
              "    }\n",
              "\n",
              "    .dataframe tbody tr th {\n",
              "        vertical-align: top;\n",
              "    }\n",
              "\n",
              "    .dataframe thead th {\n",
              "        text-align: right;\n",
              "    }\n",
              "</style>\n",
              "<table border=\"1\" class=\"dataframe\">\n",
              "  <thead>\n",
              "    <tr style=\"text-align: right;\">\n",
              "      <th></th>\n",
              "      <th>age</th>\n",
              "      <th>workclass</th>\n",
              "      <th>education</th>\n",
              "      <th>educationno</th>\n",
              "      <th>maritalstatus</th>\n",
              "      <th>occupation</th>\n",
              "      <th>relationship</th>\n",
              "      <th>race</th>\n",
              "      <th>sex</th>\n",
              "      <th>capitalgain</th>\n",
              "      <th>capitalloss</th>\n",
              "      <th>hoursperweek</th>\n",
              "      <th>native</th>\n",
              "      <th>Salary</th>\n",
              "    </tr>\n",
              "  </thead>\n",
              "  <tbody>\n",
              "    <tr>\n",
              "      <th>0</th>\n",
              "      <td>39</td>\n",
              "      <td>State-gov</td>\n",
              "      <td>Bachelors</td>\n",
              "      <td>13</td>\n",
              "      <td>Never-married</td>\n",
              "      <td>Adm-clerical</td>\n",
              "      <td>Not-in-family</td>\n",
              "      <td>White</td>\n",
              "      <td>Male</td>\n",
              "      <td>2174</td>\n",
              "      <td>0</td>\n",
              "      <td>40</td>\n",
              "      <td>United-States</td>\n",
              "      <td>&lt;=50K</td>\n",
              "    </tr>\n",
              "    <tr>\n",
              "      <th>1</th>\n",
              "      <td>50</td>\n",
              "      <td>Self-emp-not-inc</td>\n",
              "      <td>Bachelors</td>\n",
              "      <td>13</td>\n",
              "      <td>Married-civ-spouse</td>\n",
              "      <td>Exec-managerial</td>\n",
              "      <td>Husband</td>\n",
              "      <td>White</td>\n",
              "      <td>Male</td>\n",
              "      <td>0</td>\n",
              "      <td>0</td>\n",
              "      <td>13</td>\n",
              "      <td>United-States</td>\n",
              "      <td>&lt;=50K</td>\n",
              "    </tr>\n",
              "    <tr>\n",
              "      <th>2</th>\n",
              "      <td>38</td>\n",
              "      <td>Private</td>\n",
              "      <td>HS-grad</td>\n",
              "      <td>9</td>\n",
              "      <td>Divorced</td>\n",
              "      <td>Handlers-cleaners</td>\n",
              "      <td>Not-in-family</td>\n",
              "      <td>White</td>\n",
              "      <td>Male</td>\n",
              "      <td>0</td>\n",
              "      <td>0</td>\n",
              "      <td>40</td>\n",
              "      <td>United-States</td>\n",
              "      <td>&lt;=50K</td>\n",
              "    </tr>\n",
              "    <tr>\n",
              "      <th>3</th>\n",
              "      <td>53</td>\n",
              "      <td>Private</td>\n",
              "      <td>11th</td>\n",
              "      <td>7</td>\n",
              "      <td>Married-civ-spouse</td>\n",
              "      <td>Handlers-cleaners</td>\n",
              "      <td>Husband</td>\n",
              "      <td>Black</td>\n",
              "      <td>Male</td>\n",
              "      <td>0</td>\n",
              "      <td>0</td>\n",
              "      <td>40</td>\n",
              "      <td>United-States</td>\n",
              "      <td>&lt;=50K</td>\n",
              "    </tr>\n",
              "    <tr>\n",
              "      <th>4</th>\n",
              "      <td>28</td>\n",
              "      <td>Private</td>\n",
              "      <td>Bachelors</td>\n",
              "      <td>13</td>\n",
              "      <td>Married-civ-spouse</td>\n",
              "      <td>Prof-specialty</td>\n",
              "      <td>Wife</td>\n",
              "      <td>Black</td>\n",
              "      <td>Female</td>\n",
              "      <td>0</td>\n",
              "      <td>0</td>\n",
              "      <td>40</td>\n",
              "      <td>Cuba</td>\n",
              "      <td>&lt;=50K</td>\n",
              "    </tr>\n",
              "  </tbody>\n",
              "</table>\n",
              "</div>"
            ],
            "text/plain": [
              "   age          workclass   education  ...  hoursperweek          native  Salary\n",
              "0   39          State-gov   Bachelors  ...            40   United-States   <=50K\n",
              "1   50   Self-emp-not-inc   Bachelors  ...            13   United-States   <=50K\n",
              "2   38            Private     HS-grad  ...            40   United-States   <=50K\n",
              "3   53            Private        11th  ...            40   United-States   <=50K\n",
              "4   28            Private   Bachelors  ...            40            Cuba   <=50K\n",
              "\n",
              "[5 rows x 14 columns]"
            ]
          },
          "metadata": {},
          "execution_count": 3
        }
      ]
    },
    {
      "cell_type": "code",
      "metadata": {
        "colab": {
          "base_uri": "https://localhost:8080/"
        },
        "id": "NUgkGY6nockR",
        "outputId": "d882931f-0038-414d-9b6f-0c6db95141f5"
      },
      "source": [
        "df['Salary'].unique()"
      ],
      "execution_count": null,
      "outputs": [
        {
          "output_type": "execute_result",
          "data": {
            "text/plain": [
              "array([' <=50K', ' >50K'], dtype=object)"
            ]
          },
          "metadata": {},
          "execution_count": 4
        }
      ]
    },
    {
      "cell_type": "code",
      "metadata": {
        "colab": {
          "base_uri": "https://localhost:8080/"
        },
        "id": "pCvBrgUqocih",
        "outputId": "e653b00f-3cc5-4b86-b9b9-e02ba33232e3"
      },
      "source": [
        "df['Salary'].value_counts()"
      ],
      "execution_count": null,
      "outputs": [
        {
          "output_type": "execute_result",
          "data": {
            "text/plain": [
              " <=50K    22653\n",
              " >50K      7508\n",
              "Name: Salary, dtype: int64"
            ]
          },
          "metadata": {},
          "execution_count": 5
        }
      ]
    },
    {
      "cell_type": "code",
      "metadata": {
        "id": "R1-ctfiQocg8"
      },
      "source": [
        "df['Salary'] = [0 if x== ' <=50K' else 1 for x in df['Salary']]"
      ],
      "execution_count": null,
      "outputs": []
    },
    {
      "cell_type": "code",
      "metadata": {
        "id": "2Hm1i8-vocfN"
      },
      "source": [
        "df_test['Salary'] = [0 if x== ' <=50K' else 1 for x in df_test['Salary']]"
      ],
      "execution_count": null,
      "outputs": []
    },
    {
      "cell_type": "code",
      "metadata": {
        "colab": {
          "base_uri": "https://localhost:8080/"
        },
        "id": "InobTWxcocdl",
        "outputId": "bf07de1c-4ea8-4ed8-a702-1217cbd14263"
      },
      "source": [
        "df['Salary'].value_counts()"
      ],
      "execution_count": null,
      "outputs": [
        {
          "output_type": "execute_result",
          "data": {
            "text/plain": [
              "0    22653\n",
              "1     7508\n",
              "Name: Salary, dtype: int64"
            ]
          },
          "metadata": {},
          "execution_count": 8
        }
      ]
    },
    {
      "cell_type": "code",
      "metadata": {
        "colab": {
          "base_uri": "https://localhost:8080/",
          "height": 388
        },
        "id": "68BhIFdzocbv",
        "outputId": "e243f89f-ab5b-4809-c866-c5cf177da1fc"
      },
      "source": [
        "fig, ax = plt.subplots(figsize=(12,6))\n",
        "sns.countplot(ax=ax, x=df['workclass'],hue=df['Salary']);"
      ],
      "execution_count": null,
      "outputs": [
        {
          "output_type": "display_data",
          "data": {
            "image/png": "[encoded data removed]",
            "text/plain": [
              "<Figure size 864x432 with 1 Axes>"
            ]
          },
          "metadata": {
            "needs_background": "light"
          }
        }
      ]
    },
    {
      "cell_type": "code",
      "metadata": {
        "colab": {
          "base_uri": "https://localhost:8080/",
          "height": 388
        },
        "id": "EZHjXkeVocaR",
        "outputId": "3f511038-b76c-4178-d76b-e0be2ecc324d"
      },
      "source": [
        "fig, ax = plt.subplots(figsize=(15,6))\n",
        "sns.countplot(x=df['education'],hue=df['Salary']);"
      ],
      "execution_count": null,
      "outputs": [
        {
          "output_type": "display_data",
          "data": {
            "image/png": "[encoded data removed]",
            "text/plain": [
              "<Figure size 1080x432 with 1 Axes>"
            ]
          },
          "metadata": {
            "needs_background": "light"
          }
        }
      ]
    },
    {
      "cell_type": "code",
      "metadata": {
        "id": "zYLExz6oocYm"
      },
      "source": [
        "df.drop('educationno',axis=1,inplace=True)"
      ],
      "execution_count": null,
      "outputs": []
    },
    {
      "cell_type": "code",
      "metadata": {
        "id": "QvW427D4ocWy"
      },
      "source": [
        "df_test.drop('educationno',axis=1,inplace=True)"
      ],
      "execution_count": null,
      "outputs": []
    },
    {
      "cell_type": "code",
      "metadata": {
        "colab": {
          "base_uri": "https://localhost:8080/",
          "height": 388
        },
        "id": "VC06MK_socVT",
        "outputId": "598135f2-a409-42b0-9261-e162e408538f"
      },
      "source": [
        "fig, ax = plt.subplots(figsize=(15,6))\n",
        "sns.countplot(x=df['maritalstatus'],hue=df['Salary']);"
      ],
      "execution_count": null,
      "outputs": [
        {
          "output_type": "display_data",
          "data": {
            "image/png": "[encoded data removed]",
            "text/plain": [
              "<Figure size 1080x432 with 1 Axes>"
            ]
          },
          "metadata": {
            "needs_background": "light"
          }
        }
      ]
    },
    {
      "cell_type": "code",
      "metadata": {
        "colab": {
          "base_uri": "https://localhost:8080/",
          "height": 301
        },
        "id": "eRQ1IHROocTg",
        "outputId": "5e40e393-fed8-474e-9f0f-f7666f30f795"
      },
      "source": [
        "fig, ax = plt.subplots(figsize=(25,6))\n",
        "sns.countplot(x=df['occupation'],hue=df['Salary']);"
      ],
      "execution_count": null,
      "outputs": [
        {
          "output_type": "display_data",
          "data": {
            "image/png": "[encoded data removed]",
            "text/plain": [
              "<Figure size 1800x432 with 1 Axes>"
            ]
          },
          "metadata": {
            "needs_background": "light"
          }
        }
      ]
    },
    {
      "cell_type": "code",
      "metadata": {
        "colab": {
          "base_uri": "https://localhost:8080/",
          "height": 388
        },
        "id": "OnO6fxB7ocRs",
        "outputId": "739cead8-45e7-4ea9-da4b-db4a3c6234fd"
      },
      "source": [
        "fig, ax = plt.subplots(figsize=(15,6))\n",
        "sns.countplot(x=df['relationship'],hue=df['Salary']);"
      ],
      "execution_count": null,
      "outputs": [
        {
          "output_type": "display_data",
          "data": {
            "image/png": "[encoded data removed]",
            "text/plain": [
              "<Figure size 1080x432 with 1 Axes>"
            ]
          },
          "metadata": {
            "needs_background": "light"
          }
        }
      ]
    },
    {
      "cell_type": "code",
      "metadata": {
        "colab": {
          "base_uri": "https://localhost:8080/",
          "height": 222
        },
        "id": "GrBAwp2RocQB",
        "outputId": "e32cc42d-54ff-4125-8896-4fbabc7628fb"
      },
      "source": [
        "fig, ax = plt.subplots(figsize=(35,6))\n",
        "sns.countplot(x=df['sex'],hue=df['Salary']);"
      ],
      "execution_count": null,
      "outputs": [
        {
          "output_type": "display_data",
          "data": {
            "image/png": "[encoded data removed]",
            "text/plain": [
              "<Figure size 2520x432 with 1 Axes>"
            ]
          },
          "metadata": {
            "needs_background": "light"
          }
        }
      ]
    },
    {
      "cell_type": "code",
      "metadata": {
        "id": "SOn8j_MiocOV"
      },
      "source": [
        "df = pd.get_dummies(df,drop_first=True)"
      ],
      "execution_count": null,
      "outputs": []
    },
    {
      "cell_type": "code",
      "metadata": {
        "id": "SzhANapYocMt"
      },
      "source": [
        "df_test = pd.get_dummies(df_test,drop_first=True)"
      ],
      "execution_count": null,
      "outputs": []
    },
    {
      "cell_type": "markdown",
      "metadata": {
        "id": "fy9bIDKqtS1m"
      },
      "source": [
        "##Correlation"
      ]
    },
    {
      "cell_type": "code",
      "metadata": {
        "colab": {
          "base_uri": "https://localhost:8080/",
          "height": 548
        },
        "id": "mS-BZlywocLG",
        "outputId": "7c86dd30-f1c6-4784-944c-040ad1fb5272"
      },
      "source": [
        "df.corr()"
      ],
      "execution_count": null,
      "outputs": [
        {
          "output_type": "execute_result",
          "data": {
            "text/html": [
              "<div>\n",
              "<style scoped>\n",
              "    .dataframe tbody tr th:only-of-type {\n",
              "        vertical-align: middle;\n",
              "    }\n",
              "\n",
              "    .dataframe tbody tr th {\n",
              "        vertical-align: top;\n",
              "    }\n",
              "\n",
              "    .dataframe thead th {\n",
              "        text-align: right;\n",
              "    }\n",
              "</style>\n",
              "<table border=\"1\" class=\"dataframe\">\n",
              "  <thead>\n",
              "    <tr style=\"text-align: right;\">\n",
              "      <th></th>\n",
              "      <th>age</th>\n",
              "      <th>capitalgain</th>\n",
              "      <th>capitalloss</th>\n",
              "      <th>hoursperweek</th>\n",
              "      <th>Salary</th>\n",
              "      <th>workclass_ Local-gov</th>\n",
              "      <th>workclass_ Private</th>\n",
              "      <th>workclass_ Self-emp-inc</th>\n",
              "      <th>workclass_ Self-emp-not-inc</th>\n",
              "      <th>workclass_ State-gov</th>\n",
              "      <th>workclass_ Without-pay</th>\n",
              "      <th>education_ 11th</th>\n",
              "      <th>education_ 12th</th>\n",
              "      <th>education_ 1st-4th</th>\n",
              "      <th>education_ 5th-6th</th>\n",
              "      <th>education_ 7th-8th</th>\n",
              "      <th>education_ 9th</th>\n",
              "      <th>education_ Assoc-acdm</th>\n",
              "      <th>education_ Assoc-voc</th>\n",
              "      <th>education_ Bachelors</th>\n",
              "      <th>education_ Doctorate</th>\n",
              "      <th>education_ HS-grad</th>\n",
              "      <th>education_ Masters</th>\n",
              "      <th>education_ Preschool</th>\n",
              "      <th>education_ Prof-school</th>\n",
              "      <th>education_ Some-college</th>\n",
              "      <th>maritalstatus_ Married-AF-spouse</th>\n",
              "      <th>maritalstatus_ Married-civ-spouse</th>\n",
              "      <th>maritalstatus_ Married-spouse-absent</th>\n",
              "      <th>maritalstatus_ Never-married</th>\n",
              "      <th>maritalstatus_ Separated</th>\n",
              "      <th>maritalstatus_ Widowed</th>\n",
              "      <th>occupation_ Armed-Forces</th>\n",
              "      <th>occupation_ Craft-repair</th>\n",
              "      <th>occupation_ Exec-managerial</th>\n",
              "      <th>occupation_ Farming-fishing</th>\n",
              "      <th>occupation_ Handlers-cleaners</th>\n",
              "      <th>occupation_ Machine-op-inspct</th>\n",
              "      <th>occupation_ Other-service</th>\n",
              "      <th>occupation_ Priv-house-serv</th>\n",
              "      <th>...</th>\n",
              "      <th>sex_ Male</th>\n",
              "      <th>native_ Canada</th>\n",
              "      <th>native_ China</th>\n",
              "      <th>native_ Columbia</th>\n",
              "      <th>native_ Cuba</th>\n",
              "      <th>native_ Dominican-Republic</th>\n",
              "      <th>native_ Ecuador</th>\n",
              "      <th>native_ El-Salvador</th>\n",
              "      <th>native_ England</th>\n",
              "      <th>native_ France</th>\n",
              "      <th>native_ Germany</th>\n",
              "      <th>native_ Greece</th>\n",
              "      <th>native_ Guatemala</th>\n",
              "      <th>native_ Haiti</th>\n",
              "      <th>native_ Honduras</th>\n",
              "      <th>native_ Hong</th>\n",
              "      <th>native_ Hungary</th>\n",
              "      <th>native_ India</th>\n",
              "      <th>native_ Iran</th>\n",
              "      <th>native_ Ireland</th>\n",
              "      <th>native_ Italy</th>\n",
              "      <th>native_ Jamaica</th>\n",
              "      <th>native_ Japan</th>\n",
              "      <th>native_ Laos</th>\n",
              "      <th>native_ Mexico</th>\n",
              "      <th>native_ Nicaragua</th>\n",
              "      <th>native_ Outlying-US(Guam-USVI-etc)</th>\n",
              "      <th>native_ Peru</th>\n",
              "      <th>native_ Philippines</th>\n",
              "      <th>native_ Poland</th>\n",
              "      <th>native_ Portugal</th>\n",
              "      <th>native_ Puerto-Rico</th>\n",
              "      <th>native_ Scotland</th>\n",
              "      <th>native_ South</th>\n",
              "      <th>native_ Taiwan</th>\n",
              "      <th>native_ Thailand</th>\n",
              "      <th>native_ Trinadad&amp;Tobago</th>\n",
              "      <th>native_ United-States</th>\n",
              "      <th>native_ Vietnam</th>\n",
              "      <th>native_ Yugoslavia</th>\n",
              "    </tr>\n",
              "  </thead>\n",
              "  <tbody>\n",
              "    <tr>\n",
              "      <th>age</th>\n",
              "      <td>1.000000</td>\n",
              "      <td>0.080152</td>\n",
              "      <td>0.060278</td>\n",
              "      <td>0.101598</td>\n",
              "      <td>0.241991</td>\n",
              "      <td>0.068252</td>\n",
              "      <td>-0.210483</td>\n",
              "      <td>0.111037</td>\n",
              "      <td>0.150425</td>\n",
              "      <td>0.014802</td>\n",
              "      <td>0.015336</td>\n",
              "      <td>-0.087748</td>\n",
              "      <td>-0.055033</td>\n",
              "      <td>0.033399</td>\n",
              "      <td>0.024005</td>\n",
              "      <td>0.096013</td>\n",
              "      <td>0.017575</td>\n",
              "      <td>-0.016301</td>\n",
              "      <td>-0.003107</td>\n",
              "      <td>0.006941</td>\n",
              "      <td>0.074257</td>\n",
              "      <td>0.010746</td>\n",
              "      <td>0.096389</td>\n",
              "      <td>0.008390</td>\n",
              "      <td>0.059847</td>\n",
              "      <td>-0.093458</td>\n",
              "      <td>-0.015618</td>\n",
              "      <td>0.308318</td>\n",
              "      <td>0.015821</td>\n",
              "      <td>-0.524000</td>\n",
              "      <td>0.013090</td>\n",
              "      <td>0.246885</td>\n",
              "      <td>-0.010807</td>\n",
              "      <td>0.016102</td>\n",
              "      <td>0.111362</td>\n",
              "      <td>0.039443</td>\n",
              "      <td>-0.104211</td>\n",
              "      <td>-0.014902</td>\n",
              "      <td>-0.092840</td>\n",
              "      <td>0.018901</td>\n",
              "      <td>...</td>\n",
              "      <td>0.081972</td>\n",
              "      <td>0.013973</td>\n",
              "      <td>0.013742</td>\n",
              "      <td>0.002959</td>\n",
              "      <td>0.029877</td>\n",
              "      <td>-0.003611</td>\n",
              "      <td>-0.004543</td>\n",
              "      <td>-0.016327</td>\n",
              "      <td>0.011472</td>\n",
              "      <td>0.003306</td>\n",
              "      <td>0.006249</td>\n",
              "      <td>0.018349</td>\n",
              "      <td>-0.020988</td>\n",
              "      <td>0.000311</td>\n",
              "      <td>-0.006235</td>\n",
              "      <td>-0.009892</td>\n",
              "      <td>0.017306</td>\n",
              "      <td>-0.001529</td>\n",
              "      <td>0.003967</td>\n",
              "      <td>-0.004254</td>\n",
              "      <td>0.029124</td>\n",
              "      <td>-0.010358</td>\n",
              "      <td>0.001265</td>\n",
              "      <td>-0.005046</td>\n",
              "      <td>-0.057495</td>\n",
              "      <td>-0.013855</td>\n",
              "      <td>0.000453</td>\n",
              "      <td>-0.006178</td>\n",
              "      <td>0.007942</td>\n",
              "      <td>0.010582</td>\n",
              "      <td>0.001061</td>\n",
              "      <td>0.007835</td>\n",
              "      <td>0.000024</td>\n",
              "      <td>0.001922</td>\n",
              "      <td>-0.007879</td>\n",
              "      <td>-0.004940</td>\n",
              "      <td>0.007867</td>\n",
              "      <td>0.016210</td>\n",
              "      <td>-0.017776</td>\n",
              "      <td>0.000657</td>\n",
              "    </tr>\n",
              "    <tr>\n",
              "      <th>capitalgain</th>\n",
              "      <td>0.080152</td>\n",
              "      <td>1.000000</td>\n",
              "      <td>-0.032218</td>\n",
              "      <td>0.080431</td>\n",
              "      <td>0.221195</td>\n",
              "      <td>-0.009625</td>\n",
              "      <td>-0.048182</td>\n",
              "      <td>0.096481</td>\n",
              "      <td>0.033322</td>\n",
              "      <td>-0.011585</td>\n",
              "      <td>-0.001758</td>\n",
              "      <td>-0.022411</td>\n",
              "      <td>-0.012556</td>\n",
              "      <td>-0.009368</td>\n",
              "      <td>-0.012223</td>\n",
              "      <td>-0.015693</td>\n",
              "      <td>-0.012328</td>\n",
              "      <td>-0.013485</td>\n",
              "      <td>-0.010193</td>\n",
              "      <td>0.038905</td>\n",
              "      <td>0.059680</td>\n",
              "      <td>-0.047227</td>\n",
              "      <td>0.047146</td>\n",
              "      <td>-0.000386</td>\n",
              "      <td>0.176063</td>\n",
              "      <td>-0.036118</td>\n",
              "      <td>-0.002653</td>\n",
              "      <td>0.084313</td>\n",
              "      <td>-0.006542</td>\n",
              "      <td>-0.065960</td>\n",
              "      <td>-0.012539</td>\n",
              "      <td>-0.011449</td>\n",
              "      <td>-0.002547</td>\n",
              "      <td>-0.023037</td>\n",
              "      <td>0.057654</td>\n",
              "      <td>-0.012414</td>\n",
              "      <td>-0.024372</td>\n",
              "      <td>-0.027376</td>\n",
              "      <td>-0.042434</td>\n",
              "      <td>-0.007459</td>\n",
              "      <td>...</td>\n",
              "      <td>0.048809</td>\n",
              "      <td>0.004210</td>\n",
              "      <td>-0.004415</td>\n",
              "      <td>-0.005251</td>\n",
              "      <td>-0.005324</td>\n",
              "      <td>0.002868</td>\n",
              "      <td>-0.002202</td>\n",
              "      <td>-0.003763</td>\n",
              "      <td>-0.001351</td>\n",
              "      <td>-0.002039</td>\n",
              "      <td>-0.001257</td>\n",
              "      <td>0.000804</td>\n",
              "      <td>-0.005297</td>\n",
              "      <td>-0.005506</td>\n",
              "      <td>-0.002942</td>\n",
              "      <td>-0.003702</td>\n",
              "      <td>-0.001053</td>\n",
              "      <td>0.019569</td>\n",
              "      <td>0.005048</td>\n",
              "      <td>-0.002925</td>\n",
              "      <td>-0.002796</td>\n",
              "      <td>-0.004254</td>\n",
              "      <td>0.008981</td>\n",
              "      <td>-0.002957</td>\n",
              "      <td>-0.014214</td>\n",
              "      <td>-0.003960</td>\n",
              "      <td>-0.003177</td>\n",
              "      <td>-0.004393</td>\n",
              "      <td>-0.000209</td>\n",
              "      <td>-0.004175</td>\n",
              "      <td>-0.003826</td>\n",
              "      <td>-0.006270</td>\n",
              "      <td>-0.002816</td>\n",
              "      <td>-0.002582</td>\n",
              "      <td>0.007639</td>\n",
              "      <td>-0.003502</td>\n",
              "      <td>-0.003603</td>\n",
              "      <td>0.012361</td>\n",
              "      <td>-0.002493</td>\n",
              "      <td>-0.002317</td>\n",
              "    </tr>\n",
              "    <tr>\n",
              "      <th>capitalloss</th>\n",
              "      <td>0.060278</td>\n",
              "      <td>-0.032218</td>\n",
              "      <td>1.000000</td>\n",
              "      <td>0.052454</td>\n",
              "      <td>0.150222</td>\n",
              "      <td>0.014781</td>\n",
              "      <td>-0.036497</td>\n",
              "      <td>0.031004</td>\n",
              "      <td>0.020282</td>\n",
              "      <td>-0.003726</td>\n",
              "      <td>-0.004709</td>\n",
              "      <td>-0.016791</td>\n",
              "      <td>-0.015427</td>\n",
              "      <td>-0.006062</td>\n",
              "      <td>-0.004077</td>\n",
              "      <td>-0.007492</td>\n",
              "      <td>-0.018168</td>\n",
              "      <td>0.002796</td>\n",
              "      <td>-0.009534</td>\n",
              "      <td>0.032893</td>\n",
              "      <td>0.049124</td>\n",
              "      <td>-0.030155</td>\n",
              "      <td>0.049370</td>\n",
              "      <td>-0.001238</td>\n",
              "      <td>0.048930</td>\n",
              "      <td>-0.022061</td>\n",
              "      <td>-0.005768</td>\n",
              "      <td>0.081568</td>\n",
              "      <td>-0.010572</td>\n",
              "      <td>-0.062040</td>\n",
              "      <td>-0.011977</td>\n",
              "      <td>-0.004442</td>\n",
              "      <td>0.005189</td>\n",
              "      <td>-0.001741</td>\n",
              "      <td>0.049215</td>\n",
              "      <td>-0.011349</td>\n",
              "      <td>-0.023613</td>\n",
              "      <td>-0.020165</td>\n",
              "      <td>-0.043935</td>\n",
              "      <td>-0.011264</td>\n",
              "      <td>...</td>\n",
              "      <td>0.047285</td>\n",
              "      <td>0.008657</td>\n",
              "      <td>0.012904</td>\n",
              "      <td>-0.006371</td>\n",
              "      <td>-0.002187</td>\n",
              "      <td>-0.007240</td>\n",
              "      <td>-0.006541</td>\n",
              "      <td>-0.010349</td>\n",
              "      <td>-0.000225</td>\n",
              "      <td>-0.006541</td>\n",
              "      <td>-0.000782</td>\n",
              "      <td>0.015902</td>\n",
              "      <td>-0.007133</td>\n",
              "      <td>-0.001064</td>\n",
              "      <td>0.003466</td>\n",
              "      <td>0.000979</td>\n",
              "      <td>0.002056</td>\n",
              "      <td>0.006111</td>\n",
              "      <td>0.003838</td>\n",
              "      <td>-0.000676</td>\n",
              "      <td>-0.006967</td>\n",
              "      <td>-0.011269</td>\n",
              "      <td>-0.003050</td>\n",
              "      <td>-0.005189</td>\n",
              "      <td>-0.022365</td>\n",
              "      <td>0.001273</td>\n",
              "      <td>-0.004709</td>\n",
              "      <td>-0.002085</td>\n",
              "      <td>0.003119</td>\n",
              "      <td>-0.005515</td>\n",
              "      <td>-0.007341</td>\n",
              "      <td>-0.004551</td>\n",
              "      <td>-0.004174</td>\n",
              "      <td>0.005688</td>\n",
              "      <td>0.005688</td>\n",
              "      <td>-0.005189</td>\n",
              "      <td>0.008857</td>\n",
              "      <td>0.015688</td>\n",
              "      <td>0.000352</td>\n",
              "      <td>-0.005034</td>\n",
              "    </tr>\n",
              "    <tr>\n",
              "      <th>hoursperweek</th>\n",
              "      <td>0.101598</td>\n",
              "      <td>0.080431</td>\n",
              "      <td>0.052454</td>\n",
              "      <td>1.000000</td>\n",
              "      <td>0.229480</td>\n",
              "      <td>0.001611</td>\n",
              "      <td>-0.095532</td>\n",
              "      <td>0.126254</td>\n",
              "      <td>0.087835</td>\n",
              "      <td>-0.032976</td>\n",
              "      <td>-0.014781</td>\n",
              "      <td>-0.106705</td>\n",
              "      <td>-0.049151</td>\n",
              "      <td>-0.015121</td>\n",
              "      <td>-0.017479</td>\n",
              "      <td>-0.009162</td>\n",
              "      <td>-0.022358</td>\n",
              "      <td>0.003931</td>\n",
              "      <td>0.018171</td>\n",
              "      <td>0.075456</td>\n",
              "      <td>0.064632</td>\n",
              "      <td>0.006436</td>\n",
              "      <td>0.065969</td>\n",
              "      <td>-0.013115</td>\n",
              "      <td>0.079401</td>\n",
              "      <td>-0.067667</td>\n",
              "      <td>0.007286</td>\n",
              "      <td>0.223622</td>\n",
              "      <td>-0.009971</td>\n",
              "      <td>-0.212807</td>\n",
              "      <td>-0.018285</td>\n",
              "      <td>-0.091231</td>\n",
              "      <td>-0.000382</td>\n",
              "      <td>0.044803</td>\n",
              "      <td>0.131571</td>\n",
              "      <td>0.093133</td>\n",
              "      <td>-0.055227</td>\n",
              "      <td>-0.004934</td>\n",
              "      <td>-0.182293</td>\n",
              "      <td>-0.046863</td>\n",
              "      <td>...</td>\n",
              "      <td>0.231272</td>\n",
              "      <td>0.002716</td>\n",
              "      <td>-0.009064</td>\n",
              "      <td>-0.004638</td>\n",
              "      <td>-0.005555</td>\n",
              "      <td>0.005326</td>\n",
              "      <td>-0.001772</td>\n",
              "      <td>-0.018927</td>\n",
              "      <td>0.006898</td>\n",
              "      <td>0.013590</td>\n",
              "      <td>0.004504</td>\n",
              "      <td>0.008572</td>\n",
              "      <td>-0.006527</td>\n",
              "      <td>-0.011735</td>\n",
              "      <td>-0.005020</td>\n",
              "      <td>0.000034</td>\n",
              "      <td>-0.009214</td>\n",
              "      <td>0.002883</td>\n",
              "      <td>0.009788</td>\n",
              "      <td>0.003499</td>\n",
              "      <td>0.005116</td>\n",
              "      <td>-0.010143</td>\n",
              "      <td>0.011215</td>\n",
              "      <td>-0.001146</td>\n",
              "      <td>-0.004209</td>\n",
              "      <td>-0.013456</td>\n",
              "      <td>0.001665</td>\n",
              "      <td>-0.013252</td>\n",
              "      <td>-0.008794</td>\n",
              "      <td>-0.005989</td>\n",
              "      <td>0.003162</td>\n",
              "      <td>-0.012015</td>\n",
              "      <td>0.000689</td>\n",
              "      <td>0.014327</td>\n",
              "      <td>-0.000305</td>\n",
              "      <td>0.012846</td>\n",
              "      <td>-0.007566</td>\n",
              "      <td>0.010667</td>\n",
              "      <td>-0.010381</td>\n",
              "      <td>0.006983</td>\n",
              "    </tr>\n",
              "    <tr>\n",
              "      <th>Salary</th>\n",
              "      <td>0.241991</td>\n",
              "      <td>0.221195</td>\n",
              "      <td>0.150222</td>\n",
              "      <td>0.229480</td>\n",
              "      <td>1.000000</td>\n",
              "      <td>0.028668</td>\n",
              "      <td>-0.117208</td>\n",
              "      <td>0.137643</td>\n",
              "      <td>0.025569</td>\n",
              "      <td>0.009748</td>\n",
              "      <td>-0.012406</td>\n",
              "      <td>-0.084526</td>\n",
              "      <td>-0.044756</td>\n",
              "      <td>-0.034319</td>\n",
              "      <td>-0.047065</td>\n",
              "      <td>-0.059034</td>\n",
              "      <td>-0.055523</td>\n",
              "      <td>0.002166</td>\n",
              "      <td>0.007023</td>\n",
              "      <td>0.178840</td>\n",
              "      <td>0.129160</td>\n",
              "      <td>-0.136152</td>\n",
              "      <td>0.174122</td>\n",
              "      <td>-0.022254</td>\n",
              "      <td>0.156471</td>\n",
              "      <td>-0.060229</td>\n",
              "      <td>0.013873</td>\n",
              "      <td>0.445409</td>\n",
              "      <td>-0.042565</td>\n",
              "      <td>-0.320038</td>\n",
              "      <td>-0.074060</td>\n",
              "      <td>-0.059100</td>\n",
              "      <td>-0.005507</td>\n",
              "      <td>-0.021453</td>\n",
              "      <td>0.213436</td>\n",
              "      <td>-0.056487</td>\n",
              "      <td>-0.093841</td>\n",
              "      <td>-0.075858</td>\n",
              "      <td>-0.165942</td>\n",
              "      <td>-0.038619</td>\n",
              "      <td>...</td>\n",
              "      <td>0.216680</td>\n",
              "      <td>0.012077</td>\n",
              "      <td>0.004968</td>\n",
              "      <td>-0.021267</td>\n",
              "      <td>0.002918</td>\n",
              "      <td>-0.023907</td>\n",
              "      <td>-0.006977</td>\n",
              "      <td>-0.021200</td>\n",
              "      <td>0.012356</td>\n",
              "      <td>0.013535</td>\n",
              "      <td>0.014316</td>\n",
              "      <td>0.001932</td>\n",
              "      <td>-0.021301</td>\n",
              "      <td>-0.013273</td>\n",
              "      <td>-0.007641</td>\n",
              "      <td>0.003882</td>\n",
              "      <td>-0.000872</td>\n",
              "      <td>0.020151</td>\n",
              "      <td>0.015514</td>\n",
              "      <td>-0.002650</td>\n",
              "      <td>0.011435</td>\n",
              "      <td>-0.014781</td>\n",
              "      <td>0.014426</td>\n",
              "      <td>-0.007210</td>\n",
              "      <td>-0.064738</td>\n",
              "      <td>-0.014415</td>\n",
              "      <td>-0.012406</td>\n",
              "      <td>-0.013301</td>\n",
              "      <td>0.012861</td>\n",
              "      <td>-0.005237</td>\n",
              "      <td>-0.010200</td>\n",
              "      <td>-0.019338</td>\n",
              "      <td>-0.002965</td>\n",
              "      <td>-0.005813</td>\n",
              "      <td>0.017570</td>\n",
              "      <td>-0.003980</td>\n",
              "      <td>-0.007789</td>\n",
              "      <td>0.040150</td>\n",
              "      <td>-0.018216</td>\n",
              "      <td>0.006717</td>\n",
              "    </tr>\n",
              "    <tr>\n",
              "      <th>...</th>\n",
              "      <td>...</td>\n",
              "      <td>...</td>\n",
              "      <td>...</td>\n",
              "      <td>...</td>\n",
              "      <td>...</td>\n",
              "      <td>...</td>\n",
              "      <td>...</td>\n",
              "      <td>...</td>\n",
              "      <td>...</td>\n",
              "      <td>...</td>\n",
              "      <td>...</td>\n",
              "      <td>...</td>\n",
              "      <td>...</td>\n",
              "      <td>...</td>\n",
              "      <td>...</td>\n",
              "      <td>...</td>\n",
              "      <td>...</td>\n",
              "      <td>...</td>\n",
              "      <td>...</td>\n",
              "      <td>...</td>\n",
              "      <td>...</td>\n",
              "      <td>...</td>\n",
              "      <td>...</td>\n",
              "      <td>...</td>\n",
              "      <td>...</td>\n",
              "      <td>...</td>\n",
              "      <td>...</td>\n",
              "      <td>...</td>\n",
              "      <td>...</td>\n",
              "      <td>...</td>\n",
              "      <td>...</td>\n",
              "      <td>...</td>\n",
              "      <td>...</td>\n",
              "      <td>...</td>\n",
              "      <td>...</td>\n",
              "      <td>...</td>\n",
              "      <td>...</td>\n",
              "      <td>...</td>\n",
              "      <td>...</td>\n",
              "      <td>...</td>\n",
              "      <td>...</td>\n",
              "      <td>...</td>\n",
              "      <td>...</td>\n",
              "      <td>...</td>\n",
              "      <td>...</td>\n",
              "      <td>...</td>\n",
              "      <td>...</td>\n",
              "      <td>...</td>\n",
              "      <td>...</td>\n",
              "      <td>...</td>\n",
              "      <td>...</td>\n",
              "      <td>...</td>\n",
              "      <td>...</td>\n",
              "      <td>...</td>\n",
              "      <td>...</td>\n",
              "      <td>...</td>\n",
              "      <td>...</td>\n",
              "      <td>...</td>\n",
              "      <td>...</td>\n",
              "      <td>...</td>\n",
              "      <td>...</td>\n",
              "      <td>...</td>\n",
              "      <td>...</td>\n",
              "      <td>...</td>\n",
              "      <td>...</td>\n",
              "      <td>...</td>\n",
              "      <td>...</td>\n",
              "      <td>...</td>\n",
              "      <td>...</td>\n",
              "      <td>...</td>\n",
              "      <td>...</td>\n",
              "      <td>...</td>\n",
              "      <td>...</td>\n",
              "      <td>...</td>\n",
              "      <td>...</td>\n",
              "      <td>...</td>\n",
              "      <td>...</td>\n",
              "      <td>...</td>\n",
              "      <td>...</td>\n",
              "      <td>...</td>\n",
              "      <td>...</td>\n",
              "    </tr>\n",
              "    <tr>\n",
              "      <th>native_ Thailand</th>\n",
              "      <td>-0.004940</td>\n",
              "      <td>-0.003502</td>\n",
              "      <td>-0.005189</td>\n",
              "      <td>0.012846</td>\n",
              "      <td>-0.003980</td>\n",
              "      <td>-0.006442</td>\n",
              "      <td>-0.008144</td>\n",
              "      <td>0.018051</td>\n",
              "      <td>0.008065</td>\n",
              "      <td>0.001935</td>\n",
              "      <td>-0.000512</td>\n",
              "      <td>-0.004506</td>\n",
              "      <td>0.009902</td>\n",
              "      <td>-0.001685</td>\n",
              "      <td>-0.002332</td>\n",
              "      <td>-0.003257</td>\n",
              "      <td>-0.002939</td>\n",
              "      <td>0.003356</td>\n",
              "      <td>0.001807</td>\n",
              "      <td>0.004331</td>\n",
              "      <td>0.009942</td>\n",
              "      <td>0.001352</td>\n",
              "      <td>0.000513</td>\n",
              "      <td>-0.000918</td>\n",
              "      <td>-0.003212</td>\n",
              "      <td>-0.005933</td>\n",
              "      <td>-0.000627</td>\n",
              "      <td>-0.005398</td>\n",
              "      <td>0.022734</td>\n",
              "      <td>0.001550</td>\n",
              "      <td>-0.004257</td>\n",
              "      <td>0.013121</td>\n",
              "      <td>-0.000410</td>\n",
              "      <td>-0.005220</td>\n",
              "      <td>0.007214</td>\n",
              "      <td>-0.004373</td>\n",
              "      <td>-0.005141</td>\n",
              "      <td>-0.000609</td>\n",
              "      <td>0.009916</td>\n",
              "      <td>0.018697</td>\n",
              "      <td>...</td>\n",
              "      <td>-0.013390</td>\n",
              "      <td>-0.001417</td>\n",
              "      <td>-0.001129</td>\n",
              "      <td>-0.001024</td>\n",
              "      <td>-0.001314</td>\n",
              "      <td>-0.001121</td>\n",
              "      <td>-0.000711</td>\n",
              "      <td>-0.001370</td>\n",
              "      <td>-0.001270</td>\n",
              "      <td>-0.000711</td>\n",
              "      <td>-0.001550</td>\n",
              "      <td>-0.000737</td>\n",
              "      <td>-0.001086</td>\n",
              "      <td>-0.000887</td>\n",
              "      <td>-0.000474</td>\n",
              "      <td>-0.000596</td>\n",
              "      <td>-0.000493</td>\n",
              "      <td>-0.001370</td>\n",
              "      <td>-0.000887</td>\n",
              "      <td>-0.000670</td>\n",
              "      <td>-0.001129</td>\n",
              "      <td>-0.001225</td>\n",
              "      <td>-0.001051</td>\n",
              "      <td>-0.000564</td>\n",
              "      <td>-0.003412</td>\n",
              "      <td>-0.000786</td>\n",
              "      <td>-0.000512</td>\n",
              "      <td>-0.000749</td>\n",
              "      <td>-0.001881</td>\n",
              "      <td>-0.001024</td>\n",
              "      <td>-0.000798</td>\n",
              "      <td>-0.001430</td>\n",
              "      <td>-0.000454</td>\n",
              "      <td>-0.001154</td>\n",
              "      <td>-0.000887</td>\n",
              "      <td>1.000000</td>\n",
              "      <td>-0.000580</td>\n",
              "      <td>-0.076406</td>\n",
              "      <td>-0.001095</td>\n",
              "      <td>-0.000547</td>\n",
              "    </tr>\n",
              "    <tr>\n",
              "      <th>native_ Trinadad&amp;Tobago</th>\n",
              "      <td>0.007867</td>\n",
              "      <td>-0.003603</td>\n",
              "      <td>0.008857</td>\n",
              "      <td>-0.007566</td>\n",
              "      <td>-0.007789</td>\n",
              "      <td>-0.001255</td>\n",
              "      <td>0.002165</td>\n",
              "      <td>0.002630</td>\n",
              "      <td>-0.002420</td>\n",
              "      <td>0.001595</td>\n",
              "      <td>-0.000527</td>\n",
              "      <td>-0.004636</td>\n",
              "      <td>0.009470</td>\n",
              "      <td>-0.001733</td>\n",
              "      <td>0.011560</td>\n",
              "      <td>0.006732</td>\n",
              "      <td>0.030388</td>\n",
              "      <td>0.003010</td>\n",
              "      <td>-0.005201</td>\n",
              "      <td>-0.010951</td>\n",
              "      <td>-0.002742</td>\n",
              "      <td>0.000369</td>\n",
              "      <td>0.000174</td>\n",
              "      <td>-0.000945</td>\n",
              "      <td>-0.003306</td>\n",
              "      <td>0.000050</td>\n",
              "      <td>-0.000645</td>\n",
              "      <td>0.001649</td>\n",
              "      <td>-0.002723</td>\n",
              "      <td>0.000570</td>\n",
              "      <td>0.003436</td>\n",
              "      <td>-0.004103</td>\n",
              "      <td>-0.000422</td>\n",
              "      <td>-0.001616</td>\n",
              "      <td>-0.005538</td>\n",
              "      <td>-0.004499</td>\n",
              "      <td>-0.005290</td>\n",
              "      <td>0.010052</td>\n",
              "      <td>0.004767</td>\n",
              "      <td>-0.001687</td>\n",
              "      <td>...</td>\n",
              "      <td>-0.012073</td>\n",
              "      <td>-0.001458</td>\n",
              "      <td>-0.001162</td>\n",
              "      <td>-0.001054</td>\n",
              "      <td>-0.001352</td>\n",
              "      <td>-0.001153</td>\n",
              "      <td>-0.000731</td>\n",
              "      <td>-0.001409</td>\n",
              "      <td>-0.001307</td>\n",
              "      <td>-0.000731</td>\n",
              "      <td>-0.001595</td>\n",
              "      <td>-0.000758</td>\n",
              "      <td>-0.001118</td>\n",
              "      <td>-0.000913</td>\n",
              "      <td>-0.000488</td>\n",
              "      <td>-0.000614</td>\n",
              "      <td>-0.000507</td>\n",
              "      <td>-0.001409</td>\n",
              "      <td>-0.000913</td>\n",
              "      <td>-0.000690</td>\n",
              "      <td>-0.001162</td>\n",
              "      <td>-0.001260</td>\n",
              "      <td>-0.001082</td>\n",
              "      <td>-0.000580</td>\n",
              "      <td>-0.003511</td>\n",
              "      <td>-0.000809</td>\n",
              "      <td>-0.000527</td>\n",
              "      <td>-0.000771</td>\n",
              "      <td>-0.001935</td>\n",
              "      <td>-0.001054</td>\n",
              "      <td>-0.000821</td>\n",
              "      <td>-0.001472</td>\n",
              "      <td>-0.000467</td>\n",
              "      <td>-0.001187</td>\n",
              "      <td>-0.000913</td>\n",
              "      <td>-0.000580</td>\n",
              "      <td>1.000000</td>\n",
              "      <td>-0.078622</td>\n",
              "      <td>-0.001127</td>\n",
              "      <td>-0.000563</td>\n",
              "    </tr>\n",
              "    <tr>\n",
              "      <th>native_ United-States</th>\n",
              "      <td>0.016210</td>\n",
              "      <td>0.012361</td>\n",
              "      <td>0.015688</td>\n",
              "      <td>0.010667</td>\n",
              "      <td>0.040150</td>\n",
              "      <td>0.032914</td>\n",
              "      <td>-0.049755</td>\n",
              "      <td>0.007331</td>\n",
              "      <td>0.014490</td>\n",
              "      <td>0.025352</td>\n",
              "      <td>0.001267</td>\n",
              "      <td>0.000845</td>\n",
              "      <td>-0.013465</td>\n",
              "      <td>-0.163583</td>\n",
              "      <td>-0.222083</td>\n",
              "      <td>-0.061630</td>\n",
              "      <td>-0.062299</td>\n",
              "      <td>0.012886</td>\n",
              "      <td>0.023635</td>\n",
              "      <td>0.005751</td>\n",
              "      <td>-0.029522</td>\n",
              "      <td>0.058845</td>\n",
              "      <td>0.000170</td>\n",
              "      <td>-0.078907</td>\n",
              "      <td>-0.005506</td>\n",
              "      <td>0.048238</td>\n",
              "      <td>0.008204</td>\n",
              "      <td>-0.006556</td>\n",
              "      <td>-0.110951</td>\n",
              "      <td>0.001930</td>\n",
              "      <td>-0.021068</td>\n",
              "      <td>0.002760</td>\n",
              "      <td>0.005370</td>\n",
              "      <td>0.003444</td>\n",
              "      <td>0.032680</td>\n",
              "      <td>-0.015026</td>\n",
              "      <td>-0.023802</td>\n",
              "      <td>-0.049720</td>\n",
              "      <td>-0.057658</td>\n",
              "      <td>-0.068802</td>\n",
              "      <td>...</td>\n",
              "      <td>-0.003160</td>\n",
              "      <td>-0.191974</td>\n",
              "      <td>-0.152941</td>\n",
              "      <td>-0.138764</td>\n",
              "      <td>-0.177966</td>\n",
              "      <td>-0.151810</td>\n",
              "      <td>-0.096307</td>\n",
              "      <td>-0.185567</td>\n",
              "      <td>-0.172048</td>\n",
              "      <td>-0.096307</td>\n",
              "      <td>-0.210043</td>\n",
              "      <td>-0.099813</td>\n",
              "      <td>-0.147199</td>\n",
              "      <td>-0.120145</td>\n",
              "      <td>-0.064188</td>\n",
              "      <td>-0.080778</td>\n",
              "      <td>-0.066810</td>\n",
              "      <td>-0.185567</td>\n",
              "      <td>-0.120145</td>\n",
              "      <td>-0.090794</td>\n",
              "      <td>-0.152941</td>\n",
              "      <td>-0.165921</td>\n",
              "      <td>-0.142440</td>\n",
              "      <td>-0.076406</td>\n",
              "      <td>-0.462254</td>\n",
              "      <td>-0.106481</td>\n",
              "      <td>-0.069334</td>\n",
              "      <td>-0.101521</td>\n",
              "      <td>-0.254810</td>\n",
              "      <td>-0.138764</td>\n",
              "      <td>-0.108085</td>\n",
              "      <td>-0.193767</td>\n",
              "      <td>-0.061455</td>\n",
              "      <td>-0.156286</td>\n",
              "      <td>-0.120145</td>\n",
              "      <td>-0.076406</td>\n",
              "      <td>-0.078622</td>\n",
              "      <td>1.000000</td>\n",
              "      <td>-0.148365</td>\n",
              "      <td>-0.074123</td>\n",
              "    </tr>\n",
              "    <tr>\n",
              "      <th>native_ Vietnam</th>\n",
              "      <td>-0.017776</td>\n",
              "      <td>-0.002493</td>\n",
              "      <td>0.000352</td>\n",
              "      <td>-0.010381</td>\n",
              "      <td>-0.018216</td>\n",
              "      <td>-0.003953</td>\n",
              "      <td>0.009370</td>\n",
              "      <td>-0.004973</td>\n",
              "      <td>-0.003405</td>\n",
              "      <td>-0.006128</td>\n",
              "      <td>-0.000994</td>\n",
              "      <td>0.003054</td>\n",
              "      <td>0.001297</td>\n",
              "      <td>0.017146</td>\n",
              "      <td>0.010290</td>\n",
              "      <td>-0.000974</td>\n",
              "      <td>0.000204</td>\n",
              "      <td>-0.004566</td>\n",
              "      <td>-0.002737</td>\n",
              "      <td>0.004435</td>\n",
              "      <td>0.001328</td>\n",
              "      <td>-0.007500</td>\n",
              "      <td>-0.011011</td>\n",
              "      <td>-0.001783</td>\n",
              "      <td>-0.006238</td>\n",
              "      <td>0.006650</td>\n",
              "      <td>-0.001217</td>\n",
              "      <td>-0.006998</td>\n",
              "      <td>0.001407</td>\n",
              "      <td>0.020601</td>\n",
              "      <td>-0.008266</td>\n",
              "      <td>-0.007743</td>\n",
              "      <td>-0.000797</td>\n",
              "      <td>0.007303</td>\n",
              "      <td>-0.011632</td>\n",
              "      <td>-0.000399</td>\n",
              "      <td>-0.003013</td>\n",
              "      <td>0.011183</td>\n",
              "      <td>0.005102</td>\n",
              "      <td>-0.003183</td>\n",
              "      <td>...</td>\n",
              "      <td>-0.001917</td>\n",
              "      <td>-0.002751</td>\n",
              "      <td>-0.002192</td>\n",
              "      <td>-0.001989</td>\n",
              "      <td>-0.002551</td>\n",
              "      <td>-0.002176</td>\n",
              "      <td>-0.001380</td>\n",
              "      <td>-0.002660</td>\n",
              "      <td>-0.002466</td>\n",
              "      <td>-0.001380</td>\n",
              "      <td>-0.003010</td>\n",
              "      <td>-0.001431</td>\n",
              "      <td>-0.002110</td>\n",
              "      <td>-0.001722</td>\n",
              "      <td>-0.000920</td>\n",
              "      <td>-0.001158</td>\n",
              "      <td>-0.000958</td>\n",
              "      <td>-0.002660</td>\n",
              "      <td>-0.001722</td>\n",
              "      <td>-0.001301</td>\n",
              "      <td>-0.002192</td>\n",
              "      <td>-0.002378</td>\n",
              "      <td>-0.002042</td>\n",
              "      <td>-0.001095</td>\n",
              "      <td>-0.006625</td>\n",
              "      <td>-0.001526</td>\n",
              "      <td>-0.000994</td>\n",
              "      <td>-0.001455</td>\n",
              "      <td>-0.003652</td>\n",
              "      <td>-0.001989</td>\n",
              "      <td>-0.001549</td>\n",
              "      <td>-0.002777</td>\n",
              "      <td>-0.000881</td>\n",
              "      <td>-0.002240</td>\n",
              "      <td>-0.001722</td>\n",
              "      <td>-0.001095</td>\n",
              "      <td>-0.001127</td>\n",
              "      <td>-0.148365</td>\n",
              "      <td>1.000000</td>\n",
              "      <td>-0.001062</td>\n",
              "    </tr>\n",
              "    <tr>\n",
              "      <th>native_ Yugoslavia</th>\n",
              "      <td>0.000657</td>\n",
              "      <td>-0.002317</td>\n",
              "      <td>-0.005034</td>\n",
              "      <td>0.006983</td>\n",
              "      <td>0.006717</td>\n",
              "      <td>-0.000550</td>\n",
              "      <td>0.003862</td>\n",
              "      <td>0.003343</td>\n",
              "      <td>-0.001701</td>\n",
              "      <td>-0.004848</td>\n",
              "      <td>-0.000496</td>\n",
              "      <td>-0.004371</td>\n",
              "      <td>-0.002592</td>\n",
              "      <td>-0.001634</td>\n",
              "      <td>-0.002262</td>\n",
              "      <td>0.007535</td>\n",
              "      <td>0.008961</td>\n",
              "      <td>0.011739</td>\n",
              "      <td>0.002169</td>\n",
              "      <td>0.005109</td>\n",
              "      <td>-0.002585</td>\n",
              "      <td>-0.006818</td>\n",
              "      <td>-0.005501</td>\n",
              "      <td>-0.000891</td>\n",
              "      <td>-0.003116</td>\n",
              "      <td>-0.001880</td>\n",
              "      <td>-0.000608</td>\n",
              "      <td>0.013100</td>\n",
              "      <td>-0.002568</td>\n",
              "      <td>-0.006651</td>\n",
              "      <td>-0.004130</td>\n",
              "      <td>-0.003868</td>\n",
              "      <td>-0.000398</td>\n",
              "      <td>-0.000583</td>\n",
              "      <td>0.012247</td>\n",
              "      <td>0.003843</td>\n",
              "      <td>-0.004987</td>\n",
              "      <td>0.005587</td>\n",
              "      <td>0.010718</td>\n",
              "      <td>-0.001590</td>\n",
              "      <td>...</td>\n",
              "      <td>0.006732</td>\n",
              "      <td>-0.001375</td>\n",
              "      <td>-0.001095</td>\n",
              "      <td>-0.000994</td>\n",
              "      <td>-0.001274</td>\n",
              "      <td>-0.001087</td>\n",
              "      <td>-0.000690</td>\n",
              "      <td>-0.001329</td>\n",
              "      <td>-0.001232</td>\n",
              "      <td>-0.000690</td>\n",
              "      <td>-0.001504</td>\n",
              "      <td>-0.000715</td>\n",
              "      <td>-0.001054</td>\n",
              "      <td>-0.000860</td>\n",
              "      <td>-0.000460</td>\n",
              "      <td>-0.000578</td>\n",
              "      <td>-0.000478</td>\n",
              "      <td>-0.001329</td>\n",
              "      <td>-0.000860</td>\n",
              "      <td>-0.000650</td>\n",
              "      <td>-0.001095</td>\n",
              "      <td>-0.001188</td>\n",
              "      <td>-0.001020</td>\n",
              "      <td>-0.000547</td>\n",
              "      <td>-0.003310</td>\n",
              "      <td>-0.000762</td>\n",
              "      <td>-0.000496</td>\n",
              "      <td>-0.000727</td>\n",
              "      <td>-0.001825</td>\n",
              "      <td>-0.000994</td>\n",
              "      <td>-0.000774</td>\n",
              "      <td>-0.001387</td>\n",
              "      <td>-0.000440</td>\n",
              "      <td>-0.001119</td>\n",
              "      <td>-0.000860</td>\n",
              "      <td>-0.000547</td>\n",
              "      <td>-0.000563</td>\n",
              "      <td>-0.074123</td>\n",
              "      <td>-0.001062</td>\n",
              "      <td>1.000000</td>\n",
              "    </tr>\n",
              "  </tbody>\n",
              "</table>\n",
              "<p>94 rows × 94 columns</p>\n",
              "</div>"
            ],
            "text/plain": [
              "                              age  ...  native_ Yugoslavia\n",
              "age                      1.000000  ...            0.000657\n",
              "capitalgain              0.080152  ...           -0.002317\n",
              "capitalloss              0.060278  ...           -0.005034\n",
              "hoursperweek             0.101598  ...            0.006983\n",
              "Salary                   0.241991  ...            0.006717\n",
              "...                           ...  ...                 ...\n",
              "native_ Thailand        -0.004940  ...           -0.000547\n",
              "native_ Trinadad&Tobago  0.007867  ...           -0.000563\n",
              "native_ United-States    0.016210  ...           -0.074123\n",
              "native_ Vietnam         -0.017776  ...           -0.001062\n",
              "native_ Yugoslavia       0.000657  ...            1.000000\n",
              "\n",
              "[94 rows x 94 columns]"
            ]
          },
          "metadata": {},
          "execution_count": 19
        }
      ]
    },
    {
      "cell_type": "code",
      "metadata": {
        "colab": {
          "base_uri": "https://localhost:8080/"
        },
        "id": "csxiY6V2ocI7",
        "outputId": "a5c47027-f30e-439d-83d3-e62ee0225a7d"
      },
      "source": [
        "df.columns"
      ],
      "execution_count": null,
      "outputs": [
        {
          "output_type": "execute_result",
          "data": {
            "text/plain": [
              "Index(['age', 'capitalgain', 'capitalloss', 'hoursperweek', 'Salary',\n",
              "       'workclass_ Local-gov', 'workclass_ Private', 'workclass_ Self-emp-inc',\n",
              "       'workclass_ Self-emp-not-inc', 'workclass_ State-gov',\n",
              "       'workclass_ Without-pay', 'education_ 11th', 'education_ 12th',\n",
              "       'education_ 1st-4th', 'education_ 5th-6th', 'education_ 7th-8th',\n",
              "       'education_ 9th', 'education_ Assoc-acdm', 'education_ Assoc-voc',\n",
              "       'education_ Bachelors', 'education_ Doctorate', 'education_ HS-grad',\n",
              "       'education_ Masters', 'education_ Preschool', 'education_ Prof-school',\n",
              "       'education_ Some-college', 'maritalstatus_ Married-AF-spouse',\n",
              "       'maritalstatus_ Married-civ-spouse',\n",
              "       'maritalstatus_ Married-spouse-absent', 'maritalstatus_ Never-married',\n",
              "       'maritalstatus_ Separated', 'maritalstatus_ Widowed',\n",
              "       'occupation_ Armed-Forces', 'occupation_ Craft-repair',\n",
              "       'occupation_ Exec-managerial', 'occupation_ Farming-fishing',\n",
              "       'occupation_ Handlers-cleaners', 'occupation_ Machine-op-inspct',\n",
              "       'occupation_ Other-service', 'occupation_ Priv-house-serv',\n",
              "       'occupation_ Prof-specialty', 'occupation_ Protective-serv',\n",
              "       'occupation_ Sales', 'occupation_ Tech-support',\n",
              "       'occupation_ Transport-moving', 'relationship_ Not-in-family',\n",
              "       'relationship_ Other-relative', 'relationship_ Own-child',\n",
              "       'relationship_ Unmarried', 'relationship_ Wife',\n",
              "       'race_ Asian-Pac-Islander', 'race_ Black', 'race_ Other', 'race_ White',\n",
              "       'sex_ Male', 'native_ Canada', 'native_ China', 'native_ Columbia',\n",
              "       'native_ Cuba', 'native_ Dominican-Republic', 'native_ Ecuador',\n",
              "       'native_ El-Salvador', 'native_ England', 'native_ France',\n",
              "       'native_ Germany', 'native_ Greece', 'native_ Guatemala',\n",
              "       'native_ Haiti', 'native_ Honduras', 'native_ Hong', 'native_ Hungary',\n",
              "       'native_ India', 'native_ Iran', 'native_ Ireland', 'native_ Italy',\n",
              "       'native_ Jamaica', 'native_ Japan', 'native_ Laos', 'native_ Mexico',\n",
              "       'native_ Nicaragua', 'native_ Outlying-US(Guam-USVI-etc)',\n",
              "       'native_ Peru', 'native_ Philippines', 'native_ Poland',\n",
              "       'native_ Portugal', 'native_ Puerto-Rico', 'native_ Scotland',\n",
              "       'native_ South', 'native_ Taiwan', 'native_ Thailand',\n",
              "       'native_ Trinadad&Tobago', 'native_ United-States', 'native_ Vietnam',\n",
              "       'native_ Yugoslavia'],\n",
              "      dtype='object')"
            ]
          },
          "metadata": {},
          "execution_count": 20
        }
      ]
    },
    {
      "cell_type": "code",
      "metadata": {
        "id": "wjNbvNA_ocGx"
      },
      "source": [
        "df.drop(['maritalstatus_ Married-civ-spouse','maritalstatus_ Married-AF-spouse',\n",
        "         'workclass_ Self-emp-not-inc','workclass_ Local-gov',\n",
        "         'relationship_ Wife',\n",
        "         'occupation_ Exec-managerial','occupation_ Prof-specialty'],axis=1,inplace=True)"
      ],
      "execution_count": null,
      "outputs": []
    },
    {
      "cell_type": "code",
      "metadata": {
        "id": "PQeJDtArplnt"
      },
      "source": [
        "df_test.drop(['maritalstatus_ Married-civ-spouse','maritalstatus_ Married-AF-spouse',\n",
        "         'workclass_ Self-emp-not-inc','workclass_ Local-gov',\n",
        "         'relationship_ Wife',\n",
        "         'occupation_ Exec-managerial','occupation_ Prof-specialty'],axis=1,inplace=True)"
      ],
      "execution_count": null,
      "outputs": []
    },
    {
      "cell_type": "code",
      "metadata": {
        "id": "yhOvVfM_plkL"
      },
      "source": [
        "df1 = pd.read_csv('SalaryData_Train.csv')"
      ],
      "execution_count": null,
      "outputs": []
    },
    {
      "cell_type": "code",
      "metadata": {
        "colab": {
          "base_uri": "https://localhost:8080/"
        },
        "id": "HKwR8cKuplim",
        "outputId": "979c4d03-fb59-49af-f3e9-3cfbcd9b7951"
      },
      "source": [
        "df1['native'].unique()"
      ],
      "execution_count": null,
      "outputs": [
        {
          "output_type": "execute_result",
          "data": {
            "text/plain": [
              "array([' United-States', ' Cuba', ' Jamaica', ' India', ' Mexico',\n",
              "       ' Puerto-Rico', ' Honduras', ' England', ' Canada', ' Germany',\n",
              "       ' Iran', ' Philippines', ' Poland', ' Columbia', ' Cambodia',\n",
              "       ' Thailand', ' Ecuador', ' Laos', ' Taiwan', ' Haiti', ' Portugal',\n",
              "       ' Dominican-Republic', ' El-Salvador', ' France', ' Guatemala',\n",
              "       ' Italy', ' China', ' South', ' Japan', ' Yugoslavia', ' Peru',\n",
              "       ' Outlying-US(Guam-USVI-etc)', ' Scotland', ' Trinadad&Tobago',\n",
              "       ' Greece', ' Nicaragua', ' Vietnam', ' Hong', ' Ireland',\n",
              "       ' Hungary'], dtype=object)"
            ]
          },
          "metadata": {},
          "execution_count": 24
        }
      ]
    },
    {
      "cell_type": "code",
      "metadata": {
        "id": "is4teQGKplg_"
      },
      "source": [
        "df1['native_bin'] = [1 if x==' United-States' else 0 for x in df1['native']]"
      ],
      "execution_count": null,
      "outputs": []
    },
    {
      "cell_type": "code",
      "metadata": {
        "id": "HCPyKYkzplfT"
      },
      "source": [
        "sns.countplot(df1['native_bin'],hue=df1['Salary'])"
      ],
      "execution_count": null,
      "outputs": []
    },
    {
      "cell_type": "code",
      "metadata": {
        "id": "vJVgwzvypldg"
      },
      "source": [
        "df.drop(['native_ China', 'native_ Columbia',\n",
        "       'native_ Cuba', 'native_ Dominican-Republic', 'native_ Ecuador',\n",
        "       'native_ El-Salvador', 'native_ England', 'native_ France',\n",
        "       'native_ Germany', 'native_ Greece', 'native_ Guatemala',\n",
        "       'native_ Haiti', 'native_ Honduras', 'native_ Hong', 'native_ Hungary',\n",
        "       'native_ India', 'native_ Iran', 'native_ Ireland', 'native_ Italy',\n",
        "       'native_ Jamaica', 'native_ Japan', 'native_ Laos', 'native_ Mexico',\n",
        "       'native_ Nicaragua', 'native_ Outlying-US(Guam-USVI-etc)',\n",
        "       'native_ Peru', 'native_ Philippines', 'native_ Poland',\n",
        "       'native_ Portugal', 'native_ Puerto-Rico', 'native_ Scotland',\n",
        "       'native_ South', 'native_ Taiwan', 'native_ Thailand',\n",
        "       'native_ Trinadad&Tobago', 'native_ United-States', 'native_ Vietnam',\n",
        "       'native_ Yugoslavia'],axis=1,inplace=True)"
      ],
      "execution_count": null,
      "outputs": []
    },
    {
      "cell_type": "code",
      "metadata": {
        "id": "ODbh4uRUplb1"
      },
      "source": [
        "df_test.drop(['native_ China', 'native_ Columbia',\n",
        "       'native_ Cuba', 'native_ Dominican-Republic', 'native_ Ecuador',\n",
        "       'native_ El-Salvador', 'native_ England', 'native_ France',\n",
        "       'native_ Germany', 'native_ Greece', 'native_ Guatemala',\n",
        "       'native_ Haiti', 'native_ Honduras', 'native_ Hong', 'native_ Hungary',\n",
        "       'native_ India', 'native_ Iran', 'native_ Ireland', 'native_ Italy',\n",
        "       'native_ Jamaica', 'native_ Japan', 'native_ Laos', 'native_ Mexico',\n",
        "       'native_ Nicaragua', 'native_ Outlying-US(Guam-USVI-etc)',\n",
        "       'native_ Peru', 'native_ Philippines', 'native_ Poland',\n",
        "       'native_ Portugal', 'native_ Puerto-Rico', 'native_ Scotland',\n",
        "       'native_ South', 'native_ Taiwan', 'native_ Thailand',\n",
        "       'native_ Trinadad&Tobago', 'native_ United-States', 'native_ Vietnam',\n",
        "       'native_ Yugoslavia'],axis=1,inplace=True)"
      ],
      "execution_count": null,
      "outputs": []
    },
    {
      "cell_type": "code",
      "metadata": {
        "colab": {
          "base_uri": "https://localhost:8080/"
        },
        "id": "3hu2UkvRplaP",
        "outputId": "907ccca0-5263-4d44-a1e4-21cb812940cf"
      },
      "source": [
        "df.columns"
      ],
      "execution_count": null,
      "outputs": [
        {
          "output_type": "execute_result",
          "data": {
            "text/plain": [
              "Index(['age', 'capitalgain', 'capitalloss', 'hoursperweek', 'Salary',\n",
              "       'workclass_ Private', 'workclass_ Self-emp-inc', 'workclass_ State-gov',\n",
              "       'workclass_ Without-pay', 'education_ 11th', 'education_ 12th',\n",
              "       'education_ 1st-4th', 'education_ 5th-6th', 'education_ 7th-8th',\n",
              "       'education_ 9th', 'education_ Assoc-acdm', 'education_ Assoc-voc',\n",
              "       'education_ Bachelors', 'education_ Doctorate', 'education_ HS-grad',\n",
              "       'education_ Masters', 'education_ Preschool', 'education_ Prof-school',\n",
              "       'education_ Some-college', 'maritalstatus_ Married-spouse-absent',\n",
              "       'maritalstatus_ Never-married', 'maritalstatus_ Separated',\n",
              "       'maritalstatus_ Widowed', 'occupation_ Armed-Forces',\n",
              "       'occupation_ Craft-repair', 'occupation_ Farming-fishing',\n",
              "       'occupation_ Handlers-cleaners', 'occupation_ Machine-op-inspct',\n",
              "       'occupation_ Other-service', 'occupation_ Priv-house-serv',\n",
              "       'occupation_ Protective-serv', 'occupation_ Sales',\n",
              "       'occupation_ Tech-support', 'occupation_ Transport-moving',\n",
              "       'relationship_ Not-in-family', 'relationship_ Other-relative',\n",
              "       'relationship_ Own-child', 'relationship_ Unmarried',\n",
              "       'race_ Asian-Pac-Islander', 'race_ Black', 'race_ Other', 'race_ White',\n",
              "       'sex_ Male', 'native_ Canada'],\n",
              "      dtype='object')"
            ]
          },
          "metadata": {},
          "execution_count": 27
        }
      ]
    },
    {
      "cell_type": "code",
      "metadata": {
        "colab": {
          "base_uri": "https://localhost:8080/"
        },
        "id": "5jbJ66uAplYW",
        "outputId": "77c7c7c0-1529-48d6-b8df-3c072e048abc"
      },
      "source": [
        "df_test.columns"
      ],
      "execution_count": null,
      "outputs": [
        {
          "output_type": "execute_result",
          "data": {
            "text/plain": [
              "Index(['age', 'capitalgain', 'capitalloss', 'hoursperweek', 'Salary',\n",
              "       'workclass_ Private', 'workclass_ Self-emp-inc', 'workclass_ State-gov',\n",
              "       'workclass_ Without-pay', 'education_ 11th', 'education_ 12th',\n",
              "       'education_ 1st-4th', 'education_ 5th-6th', 'education_ 7th-8th',\n",
              "       'education_ 9th', 'education_ Assoc-acdm', 'education_ Assoc-voc',\n",
              "       'education_ Bachelors', 'education_ Doctorate', 'education_ HS-grad',\n",
              "       'education_ Masters', 'education_ Preschool', 'education_ Prof-school',\n",
              "       'education_ Some-college', 'maritalstatus_ Married-spouse-absent',\n",
              "       'maritalstatus_ Never-married', 'maritalstatus_ Separated',\n",
              "       'maritalstatus_ Widowed', 'occupation_ Armed-Forces',\n",
              "       'occupation_ Craft-repair', 'occupation_ Farming-fishing',\n",
              "       'occupation_ Handlers-cleaners', 'occupation_ Machine-op-inspct',\n",
              "       'occupation_ Other-service', 'occupation_ Priv-house-serv',\n",
              "       'occupation_ Protective-serv', 'occupation_ Sales',\n",
              "       'occupation_ Tech-support', 'occupation_ Transport-moving',\n",
              "       'relationship_ Not-in-family', 'relationship_ Other-relative',\n",
              "       'relationship_ Own-child', 'relationship_ Unmarried',\n",
              "       'race_ Asian-Pac-Islander', 'race_ Black', 'race_ Other', 'race_ White',\n",
              "       'sex_ Male', 'native_ Canada'],\n",
              "      dtype='object')"
            ]
          },
          "metadata": {},
          "execution_count": 28
        }
      ]
    },
    {
      "cell_type": "markdown",
      "metadata": {
        "id": "GA8GV2fAtxlU"
      },
      "source": [
        "##Naive Bayes"
      ]
    },
    {
      "cell_type": "code",
      "metadata": {
        "id": "cMFcW9-kplWV"
      },
      "source": [
        "ros = RandomOverSampler()"
      ],
      "execution_count": null,
      "outputs": []
    },
    {
      "cell_type": "code",
      "metadata": {
        "id": "7gxqZcjJqAFM"
      },
      "source": [
        "X  = df.drop('Salary',axis=1)\n",
        "y = df['Salary']"
      ],
      "execution_count": null,
      "outputs": []
    },
    {
      "cell_type": "code",
      "metadata": {
        "id": "51je7wFkqADi"
      },
      "source": [
        "X_test = df_test.drop('Salary',axis=1)\n",
        "y_test = df_test['Salary']"
      ],
      "execution_count": null,
      "outputs": []
    },
    {
      "cell_type": "code",
      "metadata": {
        "id": "2Fb7nHVTqAB6"
      },
      "source": [
        "X_ros,y_ros = ros.fit_resample(X,y)"
      ],
      "execution_count": null,
      "outputs": []
    },
    {
      "cell_type": "code",
      "metadata": {
        "id": "G-uQJNDTqAAS"
      },
      "source": [
        "scaler = StandardScaler()"
      ],
      "execution_count": null,
      "outputs": []
    },
    {
      "cell_type": "code",
      "metadata": {
        "id": "VpLVAgYPp_-p"
      },
      "source": [
        "X_train = scaler.fit_transform(X_ros)"
      ],
      "execution_count": null,
      "outputs": []
    },
    {
      "cell_type": "code",
      "metadata": {
        "id": "Hs6KJmZ1p_9C"
      },
      "source": [
        "X_test_scaled = scaler.transform(X_test)"
      ],
      "execution_count": null,
      "outputs": []
    },
    {
      "cell_type": "code",
      "metadata": {
        "id": "3UBi54typ_7U"
      },
      "source": [
        "gnb = GaussianNB()"
      ],
      "execution_count": null,
      "outputs": []
    },
    {
      "cell_type": "code",
      "metadata": {
        "colab": {
          "base_uri": "https://localhost:8080/"
        },
        "id": "jd1NA-JYp_5r",
        "outputId": "edca29fd-021c-4b8c-8eb5-38136a43753a"
      },
      "source": [
        "gnb.fit(X_train,y_ros)"
      ],
      "execution_count": null,
      "outputs": [
        {
          "output_type": "execute_result",
          "data": {
            "text/plain": [
              "GaussianNB()"
            ]
          },
          "metadata": {},
          "execution_count": 37
        }
      ]
    },
    {
      "cell_type": "code",
      "metadata": {
        "id": "NXw4VHb2p_3t"
      },
      "source": [
        "prediction = gnb.predict(X_test_scaled)"
      ],
      "execution_count": null,
      "outputs": []
    },
    {
      "cell_type": "code",
      "metadata": {
        "colab": {
          "base_uri": "https://localhost:8080/"
        },
        "id": "d9WCXNAqqTkP",
        "outputId": "4fe58218-3bf0-4bbb-a5aa-003cbf5f425a"
      },
      "source": [
        "print(confusion_matrix(y_test,prediction))\n",
        "print(classification_report(y_test,prediction))"
      ],
      "execution_count": null,
      "outputs": [
        {
          "output_type": "stream",
          "name": "stdout",
          "text": [
            "[[5018 6342]\n",
            " [ 221 3479]]\n",
            "              precision    recall  f1-score   support\n",
            "\n",
            "           0       0.96      0.44      0.60     11360\n",
            "           1       0.35      0.94      0.51      3700\n",
            "\n",
            "    accuracy                           0.56     15060\n",
            "   macro avg       0.66      0.69      0.56     15060\n",
            "weighted avg       0.81      0.56      0.58     15060\n",
            "\n"
          ]
        }
      ]
    }
  ]
}