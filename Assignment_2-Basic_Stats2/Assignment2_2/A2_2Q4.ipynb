{
  "nbformat": 4,
  "nbformat_minor": 0,
  "metadata": {
    "colab": {
      "name": "A2_2Q4.ipynb",
      "provenance": []
    },
    "kernelspec": {
      "name": "python3",
      "display_name": "Python 3"
    },
    "language_info": {
      "name": "python"
    }
  },
  "cells": [
    {
      "cell_type": "code",
      "metadata": {
        "id": "fabOLtrUn_6x"
      },
      "source": [
        "from scipy import stats \n",
        "from scipy.stats import norm "
      ],
      "execution_count": 1,
      "outputs": []
    },
    {
      "cell_type": "code",
      "metadata": {
        "colab": {
          "base_uri": "https://localhost:8080/"
        },
        "id": "1onQoUcsortt",
        "outputId": "a5e29321-07c4-4c79-c2b8-9412cee01e12"
      },
      "source": [
        "stats.norm.interval(0.99,100,20)"
      ],
      "execution_count": 3,
      "outputs": [
        {
          "output_type": "execute_result",
          "data": {
            "text/plain": [
              "(48.48341392902199, 151.516586070978)"
            ]
          },
          "metadata": {},
          "execution_count": 3
        }
      ]
    }
  ]
}