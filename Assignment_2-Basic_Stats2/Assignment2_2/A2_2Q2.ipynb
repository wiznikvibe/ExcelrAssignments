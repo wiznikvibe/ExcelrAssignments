{
  "nbformat": 4,
  "nbformat_minor": 0,
  "metadata": {
    "colab": {
      "name": "A2_2Q2.ipynb",
      "provenance": []
    },
    "kernelspec": {
      "name": "python3",
      "display_name": "Python 3"
    },
    "language_info": {
      "name": "python"
    }
  },
  "cells": [
    {
      "cell_type": "code",
      "metadata": {
        "id": "QuuTDxMHcS8F"
      },
      "source": [
        "from scipy import stats\n",
        "from scipy.stats import norm"
      ],
      "execution_count": 1,
      "outputs": []
    },
    {
      "cell_type": "code",
      "metadata": {
        "colab": {
          "base_uri": "https://localhost:8080/"
        },
        "id": "QJqKLwcYf8e9",
        "outputId": "82bd038f-6476-4a12-cc9b-1c9a6c50570e"
      },
      "source": [
        "#Case 1: More employees at the processing center are older than 44 than between 38 and 44.\n",
        "1-stats.norm.cdf(44,loc=38,scale=6)"
      ],
      "execution_count": 2,
      "outputs": [
        {
          "output_type": "execute_result",
          "data": {
            "text/plain": [
              "0.15865525393145707"
            ]
          },
          "metadata": {},
          "execution_count": 2
        }
      ]
    },
    {
      "cell_type": "code",
      "metadata": {
        "colab": {
          "base_uri": "https://localhost:8080/"
        },
        "id": "L9giHESQgcCq",
        "outputId": "d9d6ef9c-d4b4-4129-dbd7-ebecb21e0373"
      },
      "source": [
        "stats.norm.cdf(44,38,6)-stats.norm.cdf(38,38,6)"
      ],
      "execution_count": 3,
      "outputs": [
        {
          "output_type": "execute_result",
          "data": {
            "text/plain": [
              "0.3413447460685429"
            ]
          },
          "metadata": {},
          "execution_count": 3
        }
      ]
    },
    {
      "cell_type": "markdown",
      "metadata": {
        "id": "whJJGch9gvzP"
      },
      "source": [
        "Statement A is false, since there are more employees aged between 38 and 44.  "
      ]
    },
    {
      "cell_type": "code",
      "metadata": {
        "colab": {
          "base_uri": "https://localhost:8080/"
        },
        "id": "XrWlUGTjhLRl",
        "outputId": "a347d86e-84e3-4cb0-af6b-8ecb9163b6b3"
      },
      "source": [
        "#Case 2: A training program for employees under the age of 30 at the center would be expected to attract about 36 employees.\n",
        "stats.norm.cdf(30,38,6) "
      ],
      "execution_count": 4,
      "outputs": [
        {
          "output_type": "execute_result",
          "data": {
            "text/plain": [
              "0.09121121972586788"
            ]
          },
          "metadata": {},
          "execution_count": 4
        }
      ]
    },
    {
      "cell_type": "code",
      "metadata": {
        "colab": {
          "base_uri": "https://localhost:8080/"
        },
        "id": "Kukhy9ZShmqU",
        "outputId": "864aed04-5e5a-4a29-c218-f19be295a351"
      },
      "source": [
        "total_emp = 400* stats.norm.cdf(30,38,6)\n",
        "total_emp"
      ],
      "execution_count": 8,
      "outputs": [
        {
          "output_type": "execute_result",
          "data": {
            "text/plain": [
              "36.484487890347154"
            ]
          },
          "metadata": {},
          "execution_count": 8
        }
      ]
    },
    {
      "cell_type": "markdown",
      "metadata": {
        "id": "VNwUApMdiJsW"
      },
      "source": [
        "Statement B is True as no. of employees aged below 33 yrs attending training is 36."
      ]
    }
  ]
}