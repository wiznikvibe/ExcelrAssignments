{
  "nbformat": 4,
  "nbformat_minor": 0,
  "metadata": {
    "colab": {
      "name": "A2_Q5.ipynb",
      "provenance": []
    },
    "kernelspec": {
      "name": "python3",
      "display_name": "Python 3"
    },
    "language_info": {
      "name": "python"
    }
  },
  "cells": [
    {
      "cell_type": "code",
      "metadata": {
        "id": "GDMpnaOtgGOK"
      },
      "source": [
        "import numpy as np\n",
        "from scipy import stats\n",
        "from scipy.stats import norm"
      ],
      "execution_count": 2,
      "outputs": []
    },
    {
      "cell_type": "code",
      "metadata": {
        "colab": {
          "base_uri": "https://localhost:8080/"
        },
        "id": "Me17VLI1mZbz",
        "outputId": "87da2c89-5055-40e1-c40c-4b300f5ff7ec"
      },
      "source": [
        "mean = 5+7\n",
        "print(f\"Mean Profit is Rs.{mean*45} Million\")"
      ],
      "execution_count": 5,
      "outputs": [
        {
          "output_type": "stream",
          "name": "stdout",
          "text": [
            "Mean Profit is Rs.540 Million\n"
          ]
        }
      ]
    },
    {
      "cell_type": "code",
      "metadata": {
        "colab": {
          "base_uri": "https://localhost:8080/"
        },
        "id": "irP9BfEPndDM",
        "outputId": "4d2c9695-6eb7-47fe-eda6-2efbb14f8eed"
      },
      "source": [
        "SD = np.sqrt((9)+(16))\n",
        "print(f\"Standard Deviation is Rs.{SD*45}Million\")"
      ],
      "execution_count": 8,
      "outputs": [
        {
          "output_type": "stream",
          "name": "stdout",
          "text": [
            "Standard Deviation is Rs.225.0Million\n"
          ]
        }
      ]
    },
    {
      "cell_type": "code",
      "metadata": {
        "colab": {
          "base_uri": "https://localhost:8080/"
        },
        "id": "rEUVn41EoH2Q",
        "outputId": "e2d6034b-ac58-41eb-9179-0e54d3be7f35"
      },
      "source": [
        "point_95 =stats.norm.interval(0.95,540,225)\n",
        "point_95\n",
        "print(f\"Range is Rs.{point_95} Million\")"
      ],
      "execution_count": 11,
      "outputs": [
        {
          "output_type": "stream",
          "name": "stdout",
          "text": [
            "Range is Rs.(99.00810347848784, 980.9918965215122) Million\n"
          ]
        }
      ]
    },
    {
      "cell_type": "code",
      "metadata": {
        "colab": {
          "base_uri": "https://localhost:8080/"
        },
        "id": "QoUfn_4RpwRz",
        "outputId": "9fd30b5a-7659-4864-e73b-8484d9760a3b"
      },
      "source": [
        "x= 540+(-1.645)*(225)\n",
        "X= np.round(x)\n",
        "print(f\"5th percentile of profit is {X} Millions.\")"
      ],
      "execution_count": 19,
      "outputs": [
        {
          "output_type": "stream",
          "name": "stdout",
          "text": [
            "5th percentile of profit is 170.0 Millions.\n"
          ]
        }
      ]
    },
    {
      "cell_type": "code",
      "metadata": {
        "colab": {
          "base_uri": "https://localhost:8080/"
        },
        "id": "I7B7qTsVqLi3",
        "outputId": "11c29fdb-2341-4f65-e60e-9d2cddb25d7c"
      },
      "source": [
        "stats.norm.cdf(0,5,3)"
      ],
      "execution_count": 13,
      "outputs": [
        {
          "output_type": "execute_result",
          "data": {
            "text/plain": [
              "0.0477903522728147"
            ]
          },
          "metadata": {},
          "execution_count": 13
        }
      ]
    },
    {
      "cell_type": "code",
      "metadata": {
        "colab": {
          "base_uri": "https://localhost:8080/"
        },
        "id": "MoP6zRWtqXOy",
        "outputId": "547a4d81-db66-48e7-de1e-b1d9a97fecd2"
      },
      "source": [
        "stats.norm.cdf(0,7,4)"
      ],
      "execution_count": 15,
      "outputs": [
        {
          "output_type": "execute_result",
          "data": {
            "text/plain": [
              "0.040059156863817086"
            ]
          },
          "metadata": {},
          "execution_count": 15
        }
      ]
    },
    {
      "cell_type": "markdown",
      "metadata": {
        "id": "mkIRwVzysGqs"
      },
      "source": [
        "Division 2 has a higher probability of making a loss in a year than division 1.  "
      ]
    }
  ]
}